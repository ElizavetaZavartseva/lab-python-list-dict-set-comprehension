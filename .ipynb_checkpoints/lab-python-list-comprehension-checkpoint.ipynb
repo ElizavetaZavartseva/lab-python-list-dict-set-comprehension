{
 "cells": [
  {
   "cell_type": "markdown",
   "id": "25d7736c-ba17-4aff-b6bb-66eba20fbf4e",
   "metadata": {},
   "source": [
    "# Lab | List, Dict and Set Comprehension"
   ]
  },
  {
   "cell_type": "markdown",
   "id": "7dd3cbde-675a-4b81-92c3-f728846dbe06",
   "metadata": {},
   "source": [
    "## Exercise: Managing Customer Orders Optimized with Comprehension"
   ]
  },
  {
   "cell_type": "markdown",
   "id": "5d500160-2fb7-4777-b5e4-09d45ebaf328",
   "metadata": {},
   "source": [
    "In the previous exercise, you developed a program to manage customer orders and inventory. Now, let's take it a step further and incorporate comprehension into your code.\n",
    "\n",
    "Follow the steps below to complete the exercise:\n",
    "\n",
    "1. Review your code from the previous exercise and identify areas where you can apply comprehension to simplify and streamline your code. \n",
    "\n",
    "    - *Hint: Apply it to initialize inventory, updating the inventory and printing the updated inventory.*\n",
    "    \n",
    "    - For example, in initializing the inventory, we could have:\n",
    "    \n",
    "        ```python\n",
    "        def initialize_inventory(products):\n",
    "            inventory = {product: int(input(f\"Enter the quantity of {product}s available: \")) for product in products}\n",
    "            return inventory\n",
    "\n",
    "        ```\n",
    "<br>\n",
    "    \n",
    "    \n",
    "2. Modify the function get_customer_orders so it prompts the user to enter the number of customer orders and gathers the product names using a loop and user input. Use comprehension.\n",
    "\n",
    "3. Add a new function to calculate the total price of the customer order. For each product in customer_orders, prompt the user to enter the price of that product. Use comprehension to calculate the total price. Note: assume that the user can only have 1 unit of each product.\n",
    "\n",
    "4. Modify the update_inventory function to remove the product from the inventory if its quantity becomes zero after fulfilling the customer orders. Use comprehension to filter out the products with a quantity of zero from the inventory.\n",
    "\n",
    "5. Print the total price of the customer order.\n",
    "\n",
    "Your code should produce output similar to the following:\n",
    "\n",
    "```python\n",
    "Enter the quantity of t-shirts available:  5\n",
    "Enter the quantity of mugs available:  4\n",
    "Enter the quantity of hats available:  3\n",
    "Enter the quantity of books available:  2\n",
    "Enter the quantity of keychains available:  1\n",
    "Enter the number of customer orders:  2\n",
    "Enter the name of a product that a customer wants to order:  hat\n",
    "Enter the name of a product that a customer wants to order:  keychain\n",
    "\n",
    "Order Statistics:\n",
    "Total Products Ordered: 2\n",
    "Percentage of Unique Products Ordered: 40.0\n",
    "\n",
    "Updated Inventory:\n",
    "t-shirt: 5\n",
    "mug: 4\n",
    "hat: 2\n",
    "book: 2\n",
    "Enter the price of keychain:  5\n",
    "Enter the price of hat:  10\n",
    "Total Price: 15.0\n",
    "\n",
    "```\n"
   ]
  },
  {
   "cell_type": "code",
   "execution_count": 151,
   "id": "ac5b6202",
   "metadata": {},
   "outputs": [
    {
     "name": "stdout",
     "output_type": "stream",
     "text": [
      "Enter the number of t-shirts available:7\n",
      "Enter the number of mugs available:3\n",
      "Enter the number of hats available:2\n",
      "Enter the number of books available:1\n",
      "Enter the number of keychains available:7\n",
      "{'t-shirt': 7, 'mug': 3, 'hat': 2, 'book': 1, 'keychain': 7}\n"
     ]
    }
   ],
   "source": [
    "#Solution_1\n",
    "\n",
    "products = [\"t-shirt\", \"mug\", \"hat\", \"book\", \"keychain\"]\n",
    "\n",
    "\n",
    "def initialize_inventory(products: list):\n",
    "    inventory = {item: int(input(f\"Enter the number of {item}s available:\")) for item in products}\n",
    "    return inventory\n",
    "\n",
    "\n",
    "inventory = initialize_inventory(products)\n",
    "\n",
    "print(inventory)"
   ]
  },
  {
   "cell_type": "code",
   "execution_count": 144,
   "id": "f72a2b75",
   "metadata": {},
   "outputs": [
    {
     "name": "stdout",
     "output_type": "stream",
     "text": [
      "Enter the number of customer orders: 3\n",
      "Enter the name of product available:book\n",
      "Enter the name of product available:mug\n",
      "Enter the name of product available:hat\n",
      "['book', 'mug', 'hat']\n"
     ]
    }
   ],
   "source": [
    "#Solution_2\n",
    "\n",
    "\n",
    "\n",
    "\n",
    "def get_customer_orders(number_of_customer):\n",
    "    number_of_customer = int(input(\"Enter the number of customer orders: \"))\n",
    "    customer_orders = [(input(f\"Enter the name of product available:\")) for item in range(number_of_customer)]\n",
    "    return customer_orders\n",
    "    \n",
    "customer_orders = get_customer_orders(number_of_customer)    \n",
    "    \n",
    "print(customer_orders)"
   ]
  },
  {
   "cell_type": "markdown",
   "id": "dfbf6732",
   "metadata": {},
   "source": [
    "#Solution_3\n",
    "\n",
    "def total_price(customer_orders):\n",
    "    price_ordered_products = sum([int(input(f\"Enter the price of {item}: \")) for item in customer_orders])\n",
    "    \n",
    "    return price_ordered_products\n",
    "    \n",
    "price = total_price(customer_orders)\n"
   ]
  },
  {
   "cell_type": "code",
   "execution_count": 153,
   "id": "abcacc09",
   "metadata": {},
   "outputs": [
    {
     "name": "stdout",
     "output_type": "stream",
     "text": [
      "Updated Inventory\n",
      "t-shirt: 7\n",
      "mug: 1\n",
      "keychain: 7\n"
     ]
    }
   ],
   "source": [
    "#Solution_4\n",
    "\n",
    "def update_inventory(customer_orders, inventory):\n",
    "    inventory = {\n",
    "        item: inventory[item] - 1 \n",
    "        if item in customer_orders \n",
    "        else inventory[item]\n",
    "        \n",
    "        for item in inventory\n",
    "    }\n",
    "    inventory = {\n",
    "        item: inventory[item]  \n",
    "        for item in inventory\n",
    "        if inventory[item] > 0\n",
    "    }\n",
    "    \n",
    "        \n",
    "    return inventory\n",
    "        \n",
    "inventory = update_inventory(customer_orders, inventory)\n",
    "   \n",
    "\n",
    "def print_updated_inventory(inventory):\n",
    "    print(\"Updated Inventory\")\n",
    "    for k, v in inventory.items():\n",
    "        print(f\"{k}: {v}\")\n",
    "     \n",
    "print_updated_inventory(inventory)"
   ]
  },
  {
   "cell_type": "code",
   "execution_count": 147,
   "id": "80b944f9",
   "metadata": {},
   "outputs": [
    {
     "name": "stdout",
     "output_type": "stream",
     "text": [
      "Total Price: 600\n"
     ]
    }
   ],
   "source": [
    "#Solution_5\n",
    "def print_total_price(price: int):\n",
    "    print(f\"Total Price: {price}\")\n",
    "    \n",
    "print_total_price(price)"
   ]
  }
 ],
 "metadata": {
  "kernelspec": {
   "display_name": "Python 3 (ipykernel)",
   "language": "python",
   "name": "python3"
  },
  "language_info": {
   "codemirror_mode": {
    "name": "ipython",
    "version": 3
   },
   "file_extension": ".py",
   "mimetype": "text/x-python",
   "name": "python",
   "nbconvert_exporter": "python",
   "pygments_lexer": "ipython3",
   "version": "3.11.7"
  }
 },
 "nbformat": 4,
 "nbformat_minor": 5
}
